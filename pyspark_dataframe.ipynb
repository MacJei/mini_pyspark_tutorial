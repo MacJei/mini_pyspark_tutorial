{
 "cells": [
  {
   "cell_type": "markdown",
   "metadata": {},
   "source": [
    "# PySpark Dataframe Tutorial – PySpark Programming with Dataframes\n",
    "Примеры взяты из [этого блога](https://www.edureka.co/blog/pyspark-dataframe-tutorial/)"
   ]
  },
  {
   "cell_type": "code",
   "execution_count": 1,
   "metadata": {
    "collapsed": true
   },
   "outputs": [],
   "source": [
    "from pyspark.sql import *"
   ]
  },
  {
   "cell_type": "code",
   "execution_count": 2,
   "metadata": {},
   "outputs": [],
   "source": [
    "spark = SparkSession.builder.master(\"local\").appName(\"Tutorial\")\\\n",
    ".config(\"spark.some.config.option\", \"some-value\") \\\n",
    ".getOrCreate()"
   ]
  },
  {
   "cell_type": "markdown",
   "metadata": {},
   "source": [
    "## Создание DataFrame из списка Rows"
   ]
  },
  {
   "cell_type": "markdown",
   "metadata": {},
   "source": [
    "Создадим два DataFreme'a:\n",
    " - работники (Employee)\n",
    " - отделы (Department)"
   ]
  },
  {
   "cell_type": "markdown",
   "metadata": {},
   "source": [
    "### Работники\n",
    "Создадим список объектов `Row` и определим поля с помощью функции `pyspark.sql.Row`:\n",
    " - Имя (firstName)\n",
    " - Фамилия (lastName)\n",
    " - Электронная почта (email)\n",
    " - Зарплата (salary)"
   ]
  },
  {
   "cell_type": "code",
   "execution_count": 3,
   "metadata": {
    "collapsed": true
   },
   "outputs": [],
   "source": [
    "Employee = Row('firstName', 'lastName', 'email', 'salary')"
   ]
  },
  {
   "cell_type": "code",
   "execution_count": 4,
   "metadata": {},
   "outputs": [
    {
     "data": {
      "text/plain": [
       "pyspark.sql.types.Row"
      ]
     },
     "execution_count": 4,
     "metadata": {},
     "output_type": "execute_result"
    }
   ],
   "source": [
    "type(Employee)"
   ]
  },
  {
   "cell_type": "markdown",
   "metadata": {},
   "source": [
    "Теперь добавим в таблицу записи:"
   ]
  },
  {
   "cell_type": "code",
   "execution_count": 5,
   "metadata": {
    "collapsed": true
   },
   "outputs": [],
   "source": [
    "employee1 = Employee('Basher', 'armbrust', 'bash@edureka.co', 100000)\n",
    "employee2 = Employee('Daniel', 'meng', 'daniel@stanford.edu', 120000 )\n",
    "employee3 = Employee('Muriel', None, 'muriel@waterloo.edu', 140000 )\n",
    "employee4 = Employee('Rachel', 'wendell', 'rach_3@edureka.co', 160000 )\n",
    "employee5 = Employee('Zach', 'galifianakis', 'zach_g@edureka.co', 160000 )"
   ]
  },
  {
   "cell_type": "markdown",
   "metadata": {},
   "source": [
    "Объект Employee итерируемый"
   ]
  },
  {
   "cell_type": "code",
   "execution_count": 6,
   "metadata": {},
   "outputs": [
    {
     "data": {
      "text/plain": [
       "'lastName'"
      ]
     },
     "execution_count": 6,
     "metadata": {},
     "output_type": "execute_result"
    }
   ],
   "source": [
    "Employee[1]"
   ]
  },
  {
   "cell_type": "code",
   "execution_count": 7,
   "metadata": {},
   "outputs": [
    {
     "name": "stdout",
     "output_type": "stream",
     "text": [
      "Row(firstName='Muriel', lastName=None, email='muriel@waterloo.edu', salary=140000)\n"
     ]
    }
   ],
   "source": [
    "print(employee3)"
   ]
  },
  {
   "cell_type": "markdown",
   "metadata": {},
   "source": [
    "### Отделы\n",
    "Для отделов определим следующие поля:\n",
    " - id (идентификатор отдела)\n",
    " - name (название отдела)"
   ]
  },
  {
   "cell_type": "code",
   "execution_count": 8,
   "metadata": {},
   "outputs": [],
   "source": [
    "department1 = Row(id='123456', name='HR')\n",
    "department2 = Row(id='789012', name='OPS')\n",
    "department3 = Row(id='345678', name='FN')\n",
    "department4 = Row(id='901234', name='DEV')"
   ]
  },
  {
   "cell_type": "markdown",
   "metadata": {},
   "source": [
    "### Определим работников в отделы"
   ]
  },
  {
   "cell_type": "code",
   "execution_count": 9,
   "metadata": {
    "collapsed": true
   },
   "outputs": [],
   "source": [
    "departmentWithEmployees1 = Row(department=department1, \n",
    "                               employees=[employee1, employee2, employee5])\n",
    "\n",
    "departmentWithEmployees2 = Row(department=department2, \n",
    "                               employees=[employee3, employee4])\n",
    "\n",
    "departmentWithEmployees3 = Row(department=department3, \n",
    "                               employees=[employee1, employee4, employee3])\n",
    "\n",
    "departmentWithEmployees4 = Row(department=department4, \n",
    "                               employees=[employee2, employee3])"
   ]
  },
  {
   "cell_type": "markdown",
   "metadata": {},
   "source": [
    "## Создадим наконец DataFrame из списка Row"
   ]
  },
  {
   "cell_type": "markdown",
   "metadata": {},
   "source": [
    "Список Row"
   ]
  },
  {
   "cell_type": "code",
   "execution_count": 10,
   "metadata": {
    "collapsed": true
   },
   "outputs": [],
   "source": [
    "departmentsWithEmployees_Seq = [departmentWithEmployees1, \n",
    "                                departmentWithEmployees2,\n",
    "                                departmentWithEmployees3,\n",
    "                                departmentWithEmployees4]"
   ]
  },
  {
   "cell_type": "markdown",
   "metadata": {},
   "source": [
    "Теперь воспользуемся методом `createDataFrame`."
   ]
  },
  {
   "cell_type": "code",
   "execution_count": 11,
   "metadata": {
    "collapsed": true
   },
   "outputs": [],
   "source": [
    "df = spark.createDataFrame(departmentsWithEmployees_Seq)"
   ]
  },
  {
   "cell_type": "code",
   "execution_count": 12,
   "metadata": {},
   "outputs": [
    {
     "name": "stdout",
     "output_type": "stream",
     "text": [
      "+-------------+--------------------+\n",
      "|   department|           employees|\n",
      "+-------------+--------------------+\n",
      "| [123456, HR]|[[Basher, armbrus...|\n",
      "|[789012, OPS]|[[Muriel,, muriel...|\n",
      "+-------------+--------------------+\n",
      "only showing top 2 rows\n",
      "\n"
     ]
    }
   ],
   "source": [
    "df.show(n=2)"
   ]
  },
  {
   "cell_type": "markdown",
   "metadata": {},
   "source": [
    "# Чтение из csv файла в DataFrame"
   ]
  },
  {
   "cell_type": "markdown",
   "metadata": {},
   "source": [
    "Данные взяты [здесь](https://www.kaggle.com/abecklas/fifa-world-cup/version/5#WorldCupPlayers.csv)"
   ]
  },
  {
   "cell_type": "markdown",
   "metadata": {},
   "source": [
    "## FIFA World Cup"
   ]
  },
  {
   "cell_type": "markdown",
   "metadata": {},
   "source": [
    "**Описание данных**\n",
    "- RoundID - Unique ID of the round\n",
    "- MatchID - Unique ID of the match\n",
    "- Team Initials - Player's team initials\n",
    "- Coach - Name Name and country of the team coach\n",
    "- Line-up - S=Line-up, N=Substitute\n",
    "- Shirt - Number Shirt number if available\n",
    "- Player - Name Name of the player\n",
    "- Position - C=Captain, GK=Goalkeeper\n",
    "- Event:\n",
    "G=Goal, OG=Own Goal, Y=Yellow Card, R=Red Card, SY = Red Card by second yellow, P=Penalty, MP=Missed Penalty, I = Substitution In, O=Substitute Out"
   ]
  },
  {
   "cell_type": "code",
   "execution_count": 13,
   "metadata": {
    "collapsed": true
   },
   "outputs": [],
   "source": [
    "fifa_df = spark.read.csv(\"WorldCupPlayers.csv\", inferSchema=True, header=True)"
   ]
  },
  {
   "cell_type": "markdown",
   "metadata": {},
   "source": [
    "inferSchema опредяет схему из данных для этого требуется один дополнительный проход"
   ]
  },
  {
   "cell_type": "code",
   "execution_count": 14,
   "metadata": {},
   "outputs": [
    {
     "name": "stdout",
     "output_type": "stream",
     "text": [
      "+-------+-------+-------------+-------------------+-------+------------+----------------+--------+-----+\n",
      "|RoundID|MatchID|Team Initials|         Coach Name|Line-up|Shirt Number|     Player Name|Position|Event|\n",
      "+-------+-------+-------------+-------------------+-------+------------+----------------+--------+-----+\n",
      "|    201|   1096|          FRA|CAUDRON Raoul (FRA)|      S|           0|     Alex THEPOT|      GK| null|\n",
      "|    201|   1096|          MEX|   LUQUE Juan (MEX)|      S|           0| Oscar BONFIGLIO|      GK| null|\n",
      "|    201|   1096|          FRA|CAUDRON Raoul (FRA)|      S|           0|Marcel LANGILLER|    null| G40'|\n",
      "+-------+-------+-------------+-------------------+-------+------------+----------------+--------+-----+\n",
      "only showing top 3 rows\n",
      "\n"
     ]
    }
   ],
   "source": [
    "fifa_df.show(n=3)"
   ]
  },
  {
   "cell_type": "markdown",
   "metadata": {},
   "source": [
    "Посмотрим структуру данных (Schema)"
   ]
  },
  {
   "cell_type": "code",
   "execution_count": 15,
   "metadata": {},
   "outputs": [
    {
     "name": "stdout",
     "output_type": "stream",
     "text": [
      "root\n",
      " |-- RoundID: integer (nullable = true)\n",
      " |-- MatchID: integer (nullable = true)\n",
      " |-- Team Initials: string (nullable = true)\n",
      " |-- Coach Name: string (nullable = true)\n",
      " |-- Line-up: string (nullable = true)\n",
      " |-- Shirt Number: integer (nullable = true)\n",
      " |-- Player Name: string (nullable = true)\n",
      " |-- Position: string (nullable = true)\n",
      " |-- Event: string (nullable = true)\n",
      "\n"
     ]
    }
   ],
   "source": [
    "fifa_df.printSchema()"
   ]
  },
  {
   "cell_type": "markdown",
   "metadata": {},
   "source": [
    "### Размер DataFrame"
   ]
  },
  {
   "cell_type": "code",
   "execution_count": 16,
   "metadata": {},
   "outputs": [
    {
     "name": "stdout",
     "output_type": "stream",
     "text": [
      "RoundID\n",
      "MatchID\n",
      "Team Initials\n",
      "Coach Name\n",
      "Line-up\n",
      "Shirt Number\n",
      "Player Name\n",
      "Position\n",
      "Event\n",
      "\n",
      "Size : 37784 x 9\n",
      "\n"
     ]
    }
   ],
   "source": [
    "print(\"\\n\".join(fifa_df.columns))\n",
    "print()\n",
    "print(\"Size : {} x {}\\n\".format(fifa_df.count(), len(fifa_df.columns)))"
   ]
  },
  {
   "cell_type": "markdown",
   "metadata": {},
   "source": [
    "## Описание конкретного признака (столбца)"
   ]
  },
  {
   "cell_type": "markdown",
   "metadata": {},
   "source": [
    "Описание это:\n",
    "    - количество объектов\n",
    "    - среднее значение\n",
    "    - стандартное отклонение\n",
    "    - минимум\n",
    "    - максимум"
   ]
  },
  {
   "cell_type": "code",
   "execution_count": 17,
   "metadata": {},
   "outputs": [
    {
     "name": "stdout",
     "output_type": "stream",
     "text": [
      "+-------+-------------------+\n",
      "|summary|         Coach Name|\n",
      "+-------+-------------------+\n",
      "|  count|              37784|\n",
      "|   mean|               null|\n",
      "| stddev|               null|\n",
      "|    min|ACOSTA Nelson (URU)|\n",
      "|    max|         ZICO (BRA)|\n",
      "+-------+-------------------+\n",
      "\n"
     ]
    }
   ],
   "source": [
    "fifa_df.describe('Coach Name').show()"
   ]
  },
  {
   "cell_type": "code",
   "execution_count": 18,
   "metadata": {},
   "outputs": [
    {
     "name": "stdout",
     "output_type": "stream",
     "text": [
      "+-------+--------+\n",
      "|summary|Position|\n",
      "+-------+--------+\n",
      "|  count|    4143|\n",
      "|   mean|    null|\n",
      "| stddev|    null|\n",
      "|    min|       C|\n",
      "|    max|     GKC|\n",
      "+-------+--------+\n",
      "\n"
     ]
    }
   ],
   "source": [
    "fifa_df.describe('Position').show()"
   ]
  },
  {
   "cell_type": "markdown",
   "metadata": {},
   "source": [
    "### Выбор (select) нескольких признаков (колонок)"
   ]
  },
  {
   "cell_type": "code",
   "execution_count": 19,
   "metadata": {},
   "outputs": [
    {
     "name": "stdout",
     "output_type": "stream",
     "text": [
      "+----------------+-------------------+\n",
      "|     Player Name|         Coach Name|\n",
      "+----------------+-------------------+\n",
      "|     Alex THEPOT|CAUDRON Raoul (FRA)|\n",
      "| Oscar BONFIGLIO|   LUQUE Juan (MEX)|\n",
      "|Marcel LANGILLER|CAUDRON Raoul (FRA)|\n",
      "|    Juan CARRENO|   LUQUE Juan (MEX)|\n",
      "| Ernest LIBERATI|CAUDRON Raoul (FRA)|\n",
      "+----------------+-------------------+\n",
      "only showing top 5 rows\n",
      "\n"
     ]
    }
   ],
   "source": [
    "fifa_df.select('Player Name','Coach Name').show(n=5)"
   ]
  },
  {
   "cell_type": "markdown",
   "metadata": {},
   "source": [
    "### Выбор (select) уникальных значений признаков (колонок)"
   ]
  },
  {
   "cell_type": "code",
   "execution_count": 20,
   "metadata": {},
   "outputs": [
    {
     "name": "stdout",
     "output_type": "stream",
     "text": [
      "+--------------------+--------------------+\n",
      "|         Player Name|          Coach Name|\n",
      "+--------------------+--------------------+\n",
      "|    Arturo FERNANDEZ| BRU Francisco (ESP)|\n",
      "|Cayetano CARRERAS...|DURAND LAGUNA Jos...|\n",
      "|  Ernesto MASCHERONI|SUPPICI Alberto (...|\n",
      "|          Aziz FAHMY|   McREA James (SCO)|\n",
      "|        Gyula POLGAR|    NADAS Odon (HUN)|\n",
      "+--------------------+--------------------+\n",
      "only showing top 5 rows\n",
      "\n"
     ]
    }
   ],
   "source": [
    "fifa_df.select('Player Name','Coach Name').distinct().show(n=5)"
   ]
  },
  {
   "cell_type": "markdown",
   "metadata": {},
   "source": [
    "### Фильтрация данных"
   ]
  },
  {
   "cell_type": "markdown",
   "metadata": {},
   "source": [
    "Выберем только те данные для которых MatchID = '1096' и посчитаем их количество"
   ]
  },
  {
   "cell_type": "code",
   "execution_count": 39,
   "metadata": {},
   "outputs": [
    {
     "name": "stdout",
     "output_type": "stream",
     "text": [
      "+-------+-------+-------------+-------------------+-------+------------+----------------+--------+-----+\n",
      "|RoundID|MatchID|Team Initials|         Coach Name|Line-up|Shirt Number|     Player Name|Position|Event|\n",
      "+-------+-------+-------------+-------------------+-------+------------+----------------+--------+-----+\n",
      "|    201|   1096|          FRA|CAUDRON Raoul (FRA)|      S|           0|     Alex THEPOT|      GK| null|\n",
      "|    201|   1096|          MEX|   LUQUE Juan (MEX)|      S|           0| Oscar BONFIGLIO|      GK| null|\n",
      "|    201|   1096|          FRA|CAUDRON Raoul (FRA)|      S|           0|Marcel LANGILLER|    null| G40'|\n",
      "|    201|   1096|          MEX|   LUQUE Juan (MEX)|      S|           0|    Juan CARRENO|    null| G70'|\n",
      "|    201|   1096|          FRA|CAUDRON Raoul (FRA)|      S|           0| Ernest LIBERATI|    null| null|\n",
      "+-------+-------+-------------+-------------------+-------+------------+----------------+--------+-----+\n",
      "only showing top 5 rows\n",
      "\n",
      "33\n"
     ]
    }
   ],
   "source": [
    "fifa_df.filter(fifa_df['MatchID']=='1096').show(n=5)\n",
    "print(fifa_df.filter(fifa_df.MatchID=='1096').count())"
   ]
  },
  {
   "cell_type": "markdown",
   "metadata": {},
   "source": [
    "Можно задавать более сложные условия.\n",
    "Выберем игроков - капитанов, забивших гол на 40 минуте."
   ]
  },
  {
   "cell_type": "code",
   "execution_count": 22,
   "metadata": {},
   "outputs": [
    {
     "name": "stdout",
     "output_type": "stream",
     "text": [
      "+-------+-------+-------------+--------------------+-------+------------+----------------+--------+-----+\n",
      "|RoundID|MatchID|Team Initials|          Coach Name|Line-up|Shirt Number|     Player Name|Position|Event|\n",
      "+-------+-------+-------------+--------------------+-------+------------+----------------+--------+-----+\n",
      "|    201|   1089|          PAR|DURAND LAGUNA Jos...|      S|           0|Luis VARGAS PENA|       C| G40'|\n",
      "|    429|   1175|          HUN|  DIETZ Karoly (HUN)|      S|           0|   Gyorgy SAROSI|       C| G40'|\n",
      "+-------+-------+-------------+--------------------+-------+------------+----------------+--------+-----+\n",
      "\n"
     ]
    }
   ],
   "source": [
    "fifa_df.filter((fifa_df.Position=='C') & (fifa_df.Event==\"G40'\")).show()"
   ]
  },
  {
   "cell_type": "markdown",
   "metadata": {},
   "source": [
    "## Сортировка данных OrderBy"
   ]
  },
  {
   "cell_type": "markdown",
   "metadata": {},
   "source": [
    "Отсортируем данные по убывынию MatchID"
   ]
  },
  {
   "cell_type": "code",
   "execution_count": 23,
   "metadata": {},
   "outputs": [
    {
     "name": "stdout",
     "output_type": "stream",
     "text": [
      "+-------+---------+-------------+--------------------+-------+------------+-----------+--------+-----+\n",
      "|RoundID|  MatchID|Team Initials|          Coach Name|Line-up|Shirt Number|Player Name|Position|Event|\n",
      "+-------+---------+-------------+--------------------+-------+------------+-----------+--------+-----+\n",
      "| 255931|300186515|          ECU|RUEDA Reinaldo (COL)|      S|          22|  DOMINGUEZ|      GK| null|\n",
      "| 255931|300186515|          FRA|DESCHAMPS Didier ...|      S|          10|    BENZEMA|    null| null|\n",
      "| 255931|300186515|          FRA|DESCHAMPS Didier ...|      S|           1|     LLORIS|     GKC| null|\n",
      "| 255931|300186515|          ECU|RUEDA Reinaldo (COL)|      S|           2|     GUAGUA|    null| null|\n",
      "| 255931|300186515|          FRA|DESCHAMPS Didier ...|      S|           5|      SAKHO|    null| O61'|\n",
      "+-------+---------+-------------+--------------------+-------+------------+-----------+--------+-----+\n",
      "only showing top 5 rows\n",
      "\n"
     ]
    }
   ],
   "source": [
    "fifa_df.orderBy(\"MatchID\", ascending=False).show(n=5)"
   ]
  },
  {
   "cell_type": "markdown",
   "metadata": {},
   "source": [
    "Можно также сортировать по нескольким признаками задавать им порядом по возрастанию или по убыванию"
   ]
  },
  {
   "cell_type": "code",
   "execution_count": 24,
   "metadata": {},
   "outputs": [
    {
     "name": "stdout",
     "output_type": "stream",
     "text": [
      "+-------+---------+-------------+--------------------+-------+------------+-----------+--------+-----+\n",
      "|RoundID|  MatchID|Team Initials|          Coach Name|Line-up|Shirt Number|Player Name|Position|Event|\n",
      "+-------+---------+-------------+--------------------+-------+------------+-----------+--------+-----+\n",
      "| 255931|300186515|          ECU|RUEDA Reinaldo (COL)|      N|           1|   BANGUERA|      GK| null|\n",
      "| 255931|300186515|          FRA|DESCHAMPS Didier ...|      S|           1|     LLORIS|     GKC| null|\n",
      "| 255931|300186515|          ECU|RUEDA Reinaldo (COL)|      S|           2|     GUAGUA|    null| null|\n",
      "| 255931|300186515|          FRA|DESCHAMPS Didier ...|      N|           2|    DEBUCHY|    null| null|\n",
      "| 255931|300186515|          ECU|RUEDA Reinaldo (COL)|      S|           3|      ERAZO|    null| Y83'|\n",
      "+-------+---------+-------------+--------------------+-------+------------+-----------+--------+-----+\n",
      "only showing top 5 rows\n",
      "\n"
     ]
    }
   ],
   "source": [
    "fifa_df.orderBy([\"MatchID\", \"Shirt Number\"], ascending=[0, 1]).show(n=5)"
   ]
  },
  {
   "cell_type": "markdown",
   "metadata": {},
   "source": [
    "## Группировка данных"
   ]
  },
  {
   "cell_type": "markdown",
   "metadata": {},
   "source": [
    "Посчитаем количество игроков из одной страны. И отсортируем данные по убыванию."
   ]
  },
  {
   "cell_type": "code",
   "execution_count": 25,
   "metadata": {},
   "outputs": [
    {
     "name": "stdout",
     "output_type": "stream",
     "text": [
      "+-------------+-----+\n",
      "|Team Initials|count|\n",
      "+-------------+-----+\n",
      "|          BRA| 2403|\n",
      "|          ITA| 1843|\n",
      "|          ARG| 1807|\n",
      "|          ENG| 1378|\n",
      "|          FRG| 1364|\n",
      "+-------------+-----+\n",
      "only showing top 5 rows\n",
      "\n"
     ]
    }
   ],
   "source": [
    "fifa_df.groupBy(\"Team Initials\").count().orderBy(\"count\", ascending=False).show(n=5)"
   ]
  },
  {
   "cell_type": "markdown",
   "metadata": {},
   "source": [
    "## Создание собственных функций (UDF - user defined function)"
   ]
  },
  {
   "cell_type": "markdown",
   "metadata": {},
   "source": [
    "PySpark UDF работает как `.map()` и `.apply()` в `pandas`. Особенность задания UDF заключается в том, что нам нужно определить тип выходного значения."
   ]
  },
  {
   "cell_type": "markdown",
   "metadata": {},
   "source": [
    "Предположим мы хотим сделать простую функцию, которая будет возводить значение в крвадрат."
   ]
  },
  {
   "cell_type": "code",
   "execution_count": 26,
   "metadata": {
    "collapsed": true
   },
   "outputs": [],
   "source": [
    "def sqr(x):\n",
    "    return x**2"
   ]
  },
  {
   "cell_type": "code",
   "execution_count": 27,
   "metadata": {},
   "outputs": [
    {
     "data": {
      "text/plain": [
       "25"
      ]
     },
     "execution_count": 27,
     "metadata": {},
     "output_type": "execute_result"
    }
   ],
   "source": [
    "sqr(5)"
   ]
  },
  {
   "cell_type": "markdown",
   "metadata": {},
   "source": [
    "Чтобы использовать эту функцию в pyspark нужно ее зарегистрировать как UDF. Важно, чтобы входной тип совпадал с возвращаемым иначе можем полчить null."
   ]
  },
  {
   "cell_type": "code",
   "execution_count": 28,
   "metadata": {
    "collapsed": true
   },
   "outputs": [],
   "source": [
    "from pyspark.sql.types import *\n",
    "from pyspark.sql import functions"
   ]
  },
  {
   "cell_type": "code",
   "execution_count": 29,
   "metadata": {},
   "outputs": [],
   "source": [
    "sqr_udf = functions.udf(lambda x: sqr(x), IntegerType())"
   ]
  },
  {
   "cell_type": "markdown",
   "metadata": {},
   "source": [
    "Для примера возведем в квадрат номера игроков (это бесмысленно, но подойдет для демонстрации)"
   ]
  },
  {
   "cell_type": "code",
   "execution_count": 38,
   "metadata": {},
   "outputs": [
    {
     "name": "stdout",
     "output_type": "stream",
     "text": [
      "+------------+------------------+\n",
      "|Shirt Number|Squre Shirt Number|\n",
      "+------------+------------------+\n",
      "|          23|               529|\n",
      "|          22|               484|\n",
      "|          21|               441|\n",
      "|          20|               400|\n",
      "|          19|               361|\n",
      "+------------+------------------+\n",
      "only showing top 5 rows\n",
      "\n"
     ]
    }
   ],
   "source": [
    "fifa_df.select('Shirt Number', sqr_udf('Shirt Number').alias('Squre Shirt Number'))\\\n",
    ".distinct()\\\n",
    ".orderBy('Shirt Number', ascending=False)\\\n",
    ".show(5)"
   ]
  },
  {
   "cell_type": "markdown",
   "metadata": {},
   "source": [
    "## WithColumn"
   ]
  },
  {
   "cell_type": "code",
   "execution_count": 43,
   "metadata": {},
   "outputs": [
    {
     "name": "stdout",
     "output_type": "stream",
     "text": [
      "+-------+-------+-------------+-------------------+-------+------------+---------------+--------+-----+\n",
      "|RoundID|MatchID|Team Initials|         Coach Name|Line-up|Shirt Number|    Player Name|Position|Event|\n",
      "+-------+-------+-------------+-------------------+-------+------------+---------------+--------+-----+\n",
      "|    201|   1096|          FRA|CAUDRON Raoul (FRA)|      S|           0|    alex thepot|      GK| null|\n",
      "|    201|   1096|          MEX|   LUQUE Juan (MEX)|      S|           0|oscar bonfiglio|      GK| null|\n",
      "+-------+-------+-------------+-------------------+-------+------------+---------------+--------+-----+\n",
      "only showing top 2 rows\n",
      "\n"
     ]
    }
   ],
   "source": [
    "fifa_df.withColumn('Player Name', functions.lower(fifa_df['Player Name'])).show(n=2)"
   ]
  },
  {
   "cell_type": "code",
   "execution_count": 44,
   "metadata": {},
   "outputs": [
    {
     "name": "stdout",
     "output_type": "stream",
     "text": [
      "+-------+-------+-------------+-------------------+-------+------------+---------------+--------+-----+\n",
      "|RoundID|MatchID|Team Initials|         Coach Name|Line-up|Shirt Number|    Player Name|Position|Event|\n",
      "+-------+-------+-------------+-------------------+-------+------------+---------------+--------+-----+\n",
      "|    201|   1096|          FRA|CAUDRON Raoul (FRA)|      S|           0|    Alex THEPOT|      GK| null|\n",
      "|    201|   1096|          MEX|   LUQUE Juan (MEX)|      S|           0|Oscar BONFIGLIO|      GK| null|\n",
      "+-------+-------+-------------+-------------------+-------+------------+---------------+--------+-----+\n",
      "only showing top 2 rows\n",
      "\n"
     ]
    }
   ],
   "source": [
    "fifa_df.show(n=2)"
   ]
  },
  {
   "cell_type": "markdown",
   "metadata": {},
   "source": [
    "## SQL запросы"
   ]
  },
  {
   "cell_type": "markdown",
   "metadata": {},
   "source": [
    "Чтобы создавать SQL запросы необходимо сначала \"зарегистрировать\" таблицу и дать ей назание."
   ]
  },
  {
   "cell_type": "code",
   "execution_count": 31,
   "metadata": {},
   "outputs": [],
   "source": [
    "fifa_df.registerTempTable(\"fifa\")"
   ]
  },
  {
   "cell_type": "code",
   "execution_count": 32,
   "metadata": {},
   "outputs": [
    {
     "name": "stdout",
     "output_type": "stream",
     "text": [
      "+-------+-------+-------------+-------------------+-------+------------+---------------+--------+-----+\n",
      "|RoundID|MatchID|Team Initials|         Coach Name|Line-up|Shirt Number|    Player Name|Position|Event|\n",
      "+-------+-------+-------------+-------------------+-------+------------+---------------+--------+-----+\n",
      "|    201|   1096|          FRA|CAUDRON Raoul (FRA)|      S|           0|    Alex THEPOT|      GK| null|\n",
      "|    201|   1096|          MEX|   LUQUE Juan (MEX)|      S|           0|Oscar BONFIGLIO|      GK| null|\n",
      "+-------+-------+-------------+-------------------+-------+------------+---------------+--------+-----+\n",
      "only showing top 2 rows\n",
      "\n"
     ]
    }
   ],
   "source": [
    "spark.sql('select * from fifa').show(n=2)"
   ]
  },
  {
   "cell_type": "code",
   "execution_count": 33,
   "metadata": {},
   "outputs": [
    {
     "name": "stdout",
     "output_type": "stream",
     "text": [
      "+---------+\n",
      "|    Event|\n",
      "+---------+\n",
      "|     G40'|\n",
      "|     G70'|\n",
      "|G43' G87'|\n",
      "|     G19'|\n",
      "|     G45'|\n",
      "+---------+\n",
      "only showing top 5 rows\n",
      "\n"
     ]
    }
   ],
   "source": [
    "spark.sql(\"select Event from fifa where event like 'G%'\").show(n=5)"
   ]
  },
  {
   "cell_type": "code",
   "execution_count": null,
   "metadata": {
    "collapsed": true
   },
   "outputs": [],
   "source": []
  }
 ],
 "metadata": {
  "kernelspec": {
   "display_name": "Python 3",
   "language": "python",
   "name": "python3"
  },
  "language_info": {
   "codemirror_mode": {
    "name": "ipython",
    "version": 3
   },
   "file_extension": ".py",
   "mimetype": "text/x-python",
   "name": "python",
   "nbconvert_exporter": "python",
   "pygments_lexer": "ipython3",
   "version": "3.6.3"
  }
 },
 "nbformat": 4,
 "nbformat_minor": 2
}
