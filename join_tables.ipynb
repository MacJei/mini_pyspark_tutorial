{
 "cells": [
  {
   "cell_type": "markdown",
   "metadata": {
    "collapsed": true
   },
   "source": [
    "# Join Tables in PySpark"
   ]
  },
  {
   "cell_type": "code",
   "execution_count": 2,
   "metadata": {
    "collapsed": true
   },
   "outputs": [],
   "source": [
    "from pyspark.sql import *"
   ]
  },
  {
   "cell_type": "code",
   "execution_count": 3,
   "metadata": {
    "collapsed": true
   },
   "outputs": [],
   "source": [
    "spark = SparkSession.builder.master(\"local\").appName(\"Tutorial\")\\\n",
    ".config(\"spark.some.config.option\", \"some-value\") \\\n",
    ".getOrCreate()"
   ]
  },
  {
   "cell_type": "markdown",
   "metadata": {},
   "source": [
    "## Создадим две таблицы"
   ]
  },
  {
   "cell_type": "code",
   "execution_count": 10,
   "metadata": {},
   "outputs": [
    {
     "name": "stdout",
     "output_type": "stream",
     "text": [
      "+---------+----+\n",
      "|     name|  id|\n",
      "+---------+----+\n",
      "|   Pirate|   1|\n",
      "|   Monkey|   2|\n",
      "|    Ninja|   3|\n",
      "|Spaghetti|   4|\n",
      "|      Cat|null|\n",
      "+---------+----+\n",
      "\n",
      "+-----------+----+\n",
      "|       name|  id|\n",
      "+-----------+----+\n",
      "|   Rutabaga|   1|\n",
      "|     Pirate|   2|\n",
      "|      Ninja|   3|\n",
      "|Darth Vader|   4|\n",
      "|  Spaghetti|null|\n",
      "+-----------+----+\n",
      "\n"
     ]
    }
   ],
   "source": [
    "valuesA = [('Pirate', 1),\n",
    "           ('Monkey', 2),\n",
    "           ('Ninja', 3),\n",
    "           ('Spaghetti', 4), \n",
    "           ('Cat', None)]\n",
    "TableA = spark.createDataFrame(valuesA,['name','id_a'])\n",
    " \n",
    "valuesB = [('Rutabaga',1),('Pirate',2),('Ninja',3),('Darth Vader',4),('Spaghetti', None)]\n",
    "TableB = spark.createDataFrame(valuesB,['name','id_b'])\n",
    " \n",
    "TableA.show()\n",
    "TableB.show()"
   ]
  },
  {
   "cell_type": "markdown",
   "metadata": {},
   "source": [
    "## Pyspark Inner Join"
   ]
  },
  {
   "cell_type": "code",
   "execution_count": 16,
   "metadata": {
    "collapsed": true
   },
   "outputs": [],
   "source": [
    "inner_join = TableA.join(TableB, on='name', how='inner')"
   ]
  },
  {
   "cell_type": "code",
   "execution_count": 15,
   "metadata": {},
   "outputs": [
    {
     "name": "stdout",
     "output_type": "stream",
     "text": [
      "+---------+---+----+\n",
      "|     name| id|  id|\n",
      "+---------+---+----+\n",
      "|Spaghetti|  4|null|\n",
      "|    Ninja|  3|   3|\n",
      "|   Pirate|  1|   2|\n",
      "+---------+---+----+\n",
      "\n"
     ]
    }
   ],
   "source": [
    "inner_join.show()"
   ]
  },
  {
   "cell_type": "markdown",
   "metadata": {},
   "source": [
    "## Pyspark Left Join"
   ]
  },
  {
   "cell_type": "code",
   "execution_count": 17,
   "metadata": {},
   "outputs": [
    {
     "name": "stdout",
     "output_type": "stream",
     "text": [
      "+---------+----+----+\n",
      "|     name|  id|  id|\n",
      "+---------+----+----+\n",
      "|Spaghetti|   4|null|\n",
      "|    Ninja|   3|   3|\n",
      "|      Cat|null|null|\n",
      "|   Pirate|   1|   2|\n",
      "|   Monkey|   2|null|\n",
      "+---------+----+----+\n",
      "\n"
     ]
    }
   ],
   "source": [
    "left_join = TableA.join(TableB, on='name', how='left')\n",
    "left_join.show()"
   ]
  },
  {
   "cell_type": "markdown",
   "metadata": {},
   "source": [
    "## Pyspark Right Join Example"
   ]
  },
  {
   "cell_type": "code",
   "execution_count": 44,
   "metadata": {},
   "outputs": [
    {
     "name": "stdout",
     "output_type": "stream",
     "text": [
      "+-----------+----+----+\n",
      "|       name|  id|  id|\n",
      "+-----------+----+----+\n",
      "|   Rutabaga|null|   1|\n",
      "|  Spaghetti|   4|null|\n",
      "|      Ninja|   3|   3|\n",
      "|     Pirate|   1|   2|\n",
      "|Darth Vader|null|   4|\n",
      "+-----------+----+----+\n",
      "\n"
     ]
    }
   ],
   "source": [
    "right_join = TableA.join(TableB, on='name', how='right')\n",
    "right_join.show()"
   ]
  },
  {
   "cell_type": "markdown",
   "metadata": {},
   "source": [
    "## Pyspark Full Outer Join Example"
   ]
  },
  {
   "cell_type": "code",
   "execution_count": 45,
   "metadata": {},
   "outputs": [
    {
     "name": "stdout",
     "output_type": "stream",
     "text": [
      "+-----------+----+----+\n",
      "|       name|  id|  id|\n",
      "+-----------+----+----+\n",
      "|   Rutabaga|null|   1|\n",
      "|  Spaghetti|   4|null|\n",
      "|      Ninja|   3|   3|\n",
      "|        Cat|null|null|\n",
      "|     Pirate|   1|   2|\n",
      "|     Monkey|   2|null|\n",
      "|Darth Vader|null|   4|\n",
      "+-----------+----+----+\n",
      "\n"
     ]
    }
   ],
   "source": [
    "full_outer_join = TableA.join(TableB, on='name', how='full_outer')\n",
    "full_outer_join.show()"
   ]
  },
  {
   "cell_type": "code",
   "execution_count": null,
   "metadata": {
    "collapsed": true
   },
   "outputs": [],
   "source": []
  }
 ],
 "metadata": {
  "kernelspec": {
   "display_name": "Python 3",
   "language": "python",
   "name": "python3"
  },
  "language_info": {
   "codemirror_mode": {
    "name": "ipython",
    "version": 3
   },
   "file_extension": ".py",
   "mimetype": "text/x-python",
   "name": "python",
   "nbconvert_exporter": "python",
   "pygments_lexer": "ipython3",
   "version": "3.6.3"
  }
 },
 "nbformat": 4,
 "nbformat_minor": 2
}
